{
 "cells": [
  {
   "cell_type": "code",
   "execution_count": 2,
   "metadata": {},
   "outputs": [],
   "source": [
    "import cv2\n",
    "import numpy as np\n",
    "\n",
    "def apply_log_filter(image, kernel_size, sigma):\n",
    "    # Aplicar suavizado Gaussiano\n",
    "    blurred = cv2.GaussianBlur(image, (kernel_size, kernel_size), sigma)\n",
    "\n",
    "    # Aplicar el operador Laplaciano\n",
    "    laplacian = cv2.Laplacian(blurred, cv2.CV_64F)\n",
    "\n",
    "    # Escalar el resultado al rango de 0 a 255\n",
    "    laplacian = np.clip(laplacian, 0, 255).astype(np.uint8)\n",
    "\n",
    "    return laplacian\n",
    "\n",
    "# Cargar la imagen\n",
    "image = cv2.imread('./imagenes/images.jpg', cv2.IMREAD_GRAYSCALE)\n",
    "\n",
    "# Aplicar el filtro LOG\n",
    "filtered_image = apply_log_filter(image, kernel_size=5, sigma=1.4)\n",
    "\n",
    "# Mostrar la imagen original y la imagen filtrada\n",
    "cv2.imshow('Original', image)\n",
    "cv2.imshow('Filtrada', filtered_image)\n",
    "cv2.waitKey(0)\n",
    "cv2.destroyAllWindows()"
   ]
  }
 ],
 "metadata": {
  "kernelspec": {
   "display_name": "Python 3",
   "language": "python",
   "name": "python3"
  },
  "language_info": {
   "codemirror_mode": {
    "name": "ipython",
    "version": 3
   },
   "file_extension": ".py",
   "mimetype": "text/x-python",
   "name": "python",
   "nbconvert_exporter": "python",
   "pygments_lexer": "ipython3",
   "version": "3.11.4"
  },
  "orig_nbformat": 4
 },
 "nbformat": 4,
 "nbformat_minor": 2
}
