{
 "cells": [
  {
   "cell_type": "code",
   "execution_count": 1,
   "metadata": {},
   "outputs": [],
   "source": [
    "import cv2\n",
    "\n",
    "def apply_laplacian_filter(image):\n",
    "    # Aplicar el operador Laplaciano\n",
    "    laplacian = cv2.Laplacian(image, cv2.CV_64F)\n",
    "\n",
    "    # Escalar el resultado al rango de 0 a 255\n",
    "    laplacian = cv2.convertScaleAbs(laplacian)\n",
    "\n",
    "    return laplacian\n",
    "\n",
    "# Cargar la imagen\n",
    "image = cv2.imread('./imagenes/images.jpg', cv2.IMREAD_GRAYSCALE)\n",
    "\n",
    "# Aplicar el filtro Laplaciano\n",
    "filtered_image = apply_laplacian_filter(image)\n",
    "\n",
    "# Mostrar la imagen original y la imagen filtrada\n",
    "cv2.imshow('Original', image)\n",
    "cv2.imshow('Filtrada', filtered_image)\n",
    "cv2.waitKey(0)\n",
    "cv2.destroyAllWindows()"
   ]
  }
 ],
 "metadata": {
  "kernelspec": {
   "display_name": "Python 3",
   "language": "python",
   "name": "python3"
  },
  "language_info": {
   "codemirror_mode": {
    "name": "ipython",
    "version": 3
   },
   "file_extension": ".py",
   "mimetype": "text/x-python",
   "name": "python",
   "nbconvert_exporter": "python",
   "pygments_lexer": "ipython3",
   "version": "3.11.4"
  },
  "orig_nbformat": 4
 },
 "nbformat": 4,
 "nbformat_minor": 2
}
