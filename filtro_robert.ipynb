{
 "cells": [
  {
   "cell_type": "code",
   "execution_count": 2,
   "metadata": {},
   "outputs": [],
   "source": [
    "\n",
    "import cv2 \n",
    "import numpy as np\n",
    "from scipy import ndimage"
   ]
  },
  {
   "cell_type": "code",
   "execution_count": 3,
   "metadata": {},
   "outputs": [],
   "source": [
    "roberts_cross_v = np.array( [[1, 0 ],\n",
    "                             [0,-1 ]] )"
   ]
  },
  {
   "cell_type": "code",
   "execution_count": 4,
   "metadata": {},
   "outputs": [],
   "source": [
    "roberts_cross_h = np.array( [[ 0, 1 ],\n",
    "                             [ -1, 0 ]] )\n",
    "  "
   ]
  },
  {
   "cell_type": "code",
   "execution_count": 5,
   "metadata": {},
   "outputs": [
    {
     "data": {
      "text/plain": [
       "True"
      ]
     },
     "execution_count": 5,
     "metadata": {},
     "output_type": "execute_result"
    }
   ],
   "source": [
    "\n",
    "img = cv2.imread(\"./imagenes/images.jpg\",0).astype('float64')\n",
    "img/=255.0\n",
    "vertical = ndimage.convolve( img, roberts_cross_v )\n",
    "horizontal = ndimage.convolve( img, roberts_cross_h )\n",
    "  \n",
    "edged_img = np.sqrt( np.square(horizontal) + np.square(vertical))\n",
    "edged_img*=255\n",
    "cv2.imwrite(\"./imagenes/output_robert.jpg\",edged_img)"
   ]
  }
 ],
 "metadata": {
  "kernelspec": {
   "display_name": "Python 3",
   "language": "python",
   "name": "python3"
  },
  "language_info": {
   "codemirror_mode": {
    "name": "ipython",
    "version": 3
   },
   "file_extension": ".py",
   "mimetype": "text/x-python",
   "name": "python",
   "nbconvert_exporter": "python",
   "pygments_lexer": "ipython3",
   "version": "3.11.4"
  },
  "orig_nbformat": 4
 },
 "nbformat": 4,
 "nbformat_minor": 2
}
